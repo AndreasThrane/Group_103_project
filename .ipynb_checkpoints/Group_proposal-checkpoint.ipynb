{
 "cells": [
  {
   "cell_type": "code",
   "execution_count": 1,
   "id": "557b8791-9923-40fd-942d-5ece18ac4ed8",
   "metadata": {},
   "outputs": [
    {
     "name": "stderr",
     "output_type": "stream",
     "text": [
      "── \u001b[1mAttaching packages\u001b[22m ─────────────────────────────────────── tidyverse 1.3.1 ──\n",
      "\n",
      "\u001b[32m✔\u001b[39m \u001b[34mggplot2\u001b[39m 3.3.6     \u001b[32m✔\u001b[39m \u001b[34mpurrr  \u001b[39m 0.3.4\n",
      "\u001b[32m✔\u001b[39m \u001b[34mtibble \u001b[39m 3.1.7     \u001b[32m✔\u001b[39m \u001b[34mdplyr  \u001b[39m 1.0.9\n",
      "\u001b[32m✔\u001b[39m \u001b[34mtidyr  \u001b[39m 1.2.0     \u001b[32m✔\u001b[39m \u001b[34mstringr\u001b[39m 1.4.0\n",
      "\u001b[32m✔\u001b[39m \u001b[34mreadr  \u001b[39m 2.1.2     \u001b[32m✔\u001b[39m \u001b[34mforcats\u001b[39m 0.5.1\n",
      "\n",
      "── \u001b[1mConflicts\u001b[22m ────────────────────────────────────────── tidyverse_conflicts() ──\n",
      "\u001b[31m✖\u001b[39m \u001b[34mdplyr\u001b[39m::\u001b[32mfilter()\u001b[39m masks \u001b[34mstats\u001b[39m::filter()\n",
      "\u001b[31m✖\u001b[39m \u001b[34mdplyr\u001b[39m::\u001b[32mlag()\u001b[39m    masks \u001b[34mstats\u001b[39m::lag()\n",
      "\n",
      "── \u001b[1mAttaching packages\u001b[22m ────────────────────────────────────── tidymodels 1.0.0 ──\n",
      "\n",
      "\u001b[32m✔\u001b[39m \u001b[34mbroom       \u001b[39m 1.0.0     \u001b[32m✔\u001b[39m \u001b[34mrsample     \u001b[39m 1.0.0\n",
      "\u001b[32m✔\u001b[39m \u001b[34mdials       \u001b[39m 1.0.0     \u001b[32m✔\u001b[39m \u001b[34mtune        \u001b[39m 1.0.0\n",
      "\u001b[32m✔\u001b[39m \u001b[34minfer       \u001b[39m 1.0.2     \u001b[32m✔\u001b[39m \u001b[34mworkflows   \u001b[39m 1.0.0\n",
      "\u001b[32m✔\u001b[39m \u001b[34mmodeldata   \u001b[39m 1.0.0     \u001b[32m✔\u001b[39m \u001b[34mworkflowsets\u001b[39m 1.0.0\n",
      "\u001b[32m✔\u001b[39m \u001b[34mparsnip     \u001b[39m 1.0.0     \u001b[32m✔\u001b[39m \u001b[34myardstick   \u001b[39m 1.0.0\n",
      "\u001b[32m✔\u001b[39m \u001b[34mrecipes     \u001b[39m 1.0.1     \n",
      "\n",
      "── \u001b[1mConflicts\u001b[22m ───────────────────────────────────────── tidymodels_conflicts() ──\n",
      "\u001b[31m✖\u001b[39m \u001b[34mscales\u001b[39m::\u001b[32mdiscard()\u001b[39m masks \u001b[34mpurrr\u001b[39m::discard()\n",
      "\u001b[31m✖\u001b[39m \u001b[34mdplyr\u001b[39m::\u001b[32mfilter()\u001b[39m   masks \u001b[34mstats\u001b[39m::filter()\n",
      "\u001b[31m✖\u001b[39m \u001b[34mrecipes\u001b[39m::\u001b[32mfixed()\u001b[39m  masks \u001b[34mstringr\u001b[39m::fixed()\n",
      "\u001b[31m✖\u001b[39m \u001b[34mdplyr\u001b[39m::\u001b[32mlag()\u001b[39m      masks \u001b[34mstats\u001b[39m::lag()\n",
      "\u001b[31m✖\u001b[39m \u001b[34myardstick\u001b[39m::\u001b[32mspec()\u001b[39m masks \u001b[34mreadr\u001b[39m::spec()\n",
      "\u001b[31m✖\u001b[39m \u001b[34mrecipes\u001b[39m::\u001b[32mstep()\u001b[39m   masks \u001b[34mstats\u001b[39m::step()\n",
      "\u001b[34m•\u001b[39m Dig deeper into tidy modeling with R at \u001b[32mhttps://www.tmwr.org\u001b[39m\n",
      "\n"
     ]
    }
   ],
   "source": [
    "library(repr)\n",
    "library(tidyverse)\n",
    "library(tidymodels)\n",
    "options(repr.matrix.max.rows = 6)"
   ]
  },
  {
   "cell_type": "code",
   "execution_count": 2,
   "id": "ac7b34a7-e4ba-4cc9-abb0-cf3652a4ad3b",
   "metadata": {},
   "outputs": [
    {
     "name": "stderr",
     "output_type": "stream",
     "text": [
      "\u001b[1mRows: \u001b[22m\u001b[34m17898\u001b[39m \u001b[1mColumns: \u001b[22m\u001b[34m9\u001b[39m\n",
      "\u001b[36m──\u001b[39m \u001b[1mColumn specification\u001b[22m \u001b[36m────────────────────────────────────────────────────────\u001b[39m\n",
      "\u001b[1mDelimiter:\u001b[22m \",\"\n",
      "\u001b[32mdbl\u001b[39m (9): X1, X2, X3, X4, X5, X6, X7, X8, X9\n",
      "\n",
      "\u001b[36mℹ\u001b[39m Use `spec()` to retrieve the full column specification for this data.\n",
      "\u001b[36mℹ\u001b[39m Specify the column types or set `show_col_types = FALSE` to quiet this message.\n"
     ]
    },
    {
     "data": {
      "text/html": [
       "<table class=\"dataframe\">\n",
       "<caption>A tibble: 17898 × 9</caption>\n",
       "<thead>\n",
       "\t<tr><th scope=col>Mean_profile</th><th scope=col>SD_profile</th><th scope=col>Kurtois_profile</th><th scope=col>Skewness_profile</th><th scope=col>Mean_curve</th><th scope=col>SD_curve</th><th scope=col>Kortuis_curve</th><th scope=col>Skewness_curve</th><th scope=col>Class</th></tr>\n",
       "\t<tr><th scope=col>&lt;dbl&gt;</th><th scope=col>&lt;dbl&gt;</th><th scope=col>&lt;dbl&gt;</th><th scope=col>&lt;dbl&gt;</th><th scope=col>&lt;dbl&gt;</th><th scope=col>&lt;dbl&gt;</th><th scope=col>&lt;dbl&gt;</th><th scope=col>&lt;dbl&gt;</th><th scope=col>&lt;fct&gt;</th></tr>\n",
       "</thead>\n",
       "<tbody>\n",
       "\t<tr><td>140.5625</td><td>55.68378</td><td>-0.2345714</td><td>-0.6996484</td><td>3.199833</td><td>19.11043</td><td> 7.975532</td><td> 74.24222</td><td>0</td></tr>\n",
       "\t<tr><td>102.5078</td><td>58.88243</td><td> 0.4653182</td><td>-0.5150879</td><td>1.677258</td><td>14.86015</td><td>10.576487</td><td>127.39358</td><td>0</td></tr>\n",
       "\t<tr><td>103.0156</td><td>39.34165</td><td> 0.3233284</td><td> 1.0511644</td><td>3.121237</td><td>21.74467</td><td> 7.735822</td><td> 63.17191</td><td>0</td></tr>\n",
       "\t<tr><td>⋮</td><td>⋮</td><td>⋮</td><td>⋮</td><td>⋮</td><td>⋮</td><td>⋮</td><td>⋮</td><td>⋮</td></tr>\n",
       "\t<tr><td>119.3359</td><td>59.93594</td><td>0.1593631</td><td>-0.74302540</td><td> 21.430602</td><td>58.87200</td><td> 2.499517</td><td>  4.595173</td><td>0</td></tr>\n",
       "\t<tr><td>114.5078</td><td>53.90240</td><td>0.2011614</td><td>-0.02478884</td><td>  1.946488</td><td>13.38173</td><td>10.007967</td><td>134.238910</td><td>0</td></tr>\n",
       "\t<tr><td> 57.0625</td><td>85.79734</td><td>1.4063910</td><td> 0.08951971</td><td>188.306020</td><td>64.71256</td><td>-1.597527</td><td>  1.429475</td><td>0</td></tr>\n",
       "</tbody>\n",
       "</table>\n"
      ],
      "text/latex": [
       "A tibble: 17898 × 9\n",
       "\\begin{tabular}{lllllllll}\n",
       " Mean\\_profile & SD\\_profile & Kurtois\\_profile & Skewness\\_profile & Mean\\_curve & SD\\_curve & Kortuis\\_curve & Skewness\\_curve & Class\\\\\n",
       " <dbl> & <dbl> & <dbl> & <dbl> & <dbl> & <dbl> & <dbl> & <dbl> & <fct>\\\\\n",
       "\\hline\n",
       "\t 140.5625 & 55.68378 & -0.2345714 & -0.6996484 & 3.199833 & 19.11043 &  7.975532 &  74.24222 & 0\\\\\n",
       "\t 102.5078 & 58.88243 &  0.4653182 & -0.5150879 & 1.677258 & 14.86015 & 10.576487 & 127.39358 & 0\\\\\n",
       "\t 103.0156 & 39.34165 &  0.3233284 &  1.0511644 & 3.121237 & 21.74467 &  7.735822 &  63.17191 & 0\\\\\n",
       "\t ⋮ & ⋮ & ⋮ & ⋮ & ⋮ & ⋮ & ⋮ & ⋮ & ⋮\\\\\n",
       "\t 119.3359 & 59.93594 & 0.1593631 & -0.74302540 &  21.430602 & 58.87200 &  2.499517 &   4.595173 & 0\\\\\n",
       "\t 114.5078 & 53.90240 & 0.2011614 & -0.02478884 &   1.946488 & 13.38173 & 10.007967 & 134.238910 & 0\\\\\n",
       "\t  57.0625 & 85.79734 & 1.4063910 &  0.08951971 & 188.306020 & 64.71256 & -1.597527 &   1.429475 & 0\\\\\n",
       "\\end{tabular}\n"
      ],
      "text/markdown": [
       "\n",
       "A tibble: 17898 × 9\n",
       "\n",
       "| Mean_profile &lt;dbl&gt; | SD_profile &lt;dbl&gt; | Kurtois_profile &lt;dbl&gt; | Skewness_profile &lt;dbl&gt; | Mean_curve &lt;dbl&gt; | SD_curve &lt;dbl&gt; | Kortuis_curve &lt;dbl&gt; | Skewness_curve &lt;dbl&gt; | Class &lt;fct&gt; |\n",
       "|---|---|---|---|---|---|---|---|---|\n",
       "| 140.5625 | 55.68378 | -0.2345714 | -0.6996484 | 3.199833 | 19.11043 |  7.975532 |  74.24222 | 0 |\n",
       "| 102.5078 | 58.88243 |  0.4653182 | -0.5150879 | 1.677258 | 14.86015 | 10.576487 | 127.39358 | 0 |\n",
       "| 103.0156 | 39.34165 |  0.3233284 |  1.0511644 | 3.121237 | 21.74467 |  7.735822 |  63.17191 | 0 |\n",
       "| ⋮ | ⋮ | ⋮ | ⋮ | ⋮ | ⋮ | ⋮ | ⋮ | ⋮ |\n",
       "| 119.3359 | 59.93594 | 0.1593631 | -0.74302540 |  21.430602 | 58.87200 |  2.499517 |   4.595173 | 0 |\n",
       "| 114.5078 | 53.90240 | 0.2011614 | -0.02478884 |   1.946488 | 13.38173 | 10.007967 | 134.238910 | 0 |\n",
       "|  57.0625 | 85.79734 | 1.4063910 |  0.08951971 | 188.306020 | 64.71256 | -1.597527 |   1.429475 | 0 |\n",
       "\n"
      ],
      "text/plain": [
       "      Mean_profile SD_profile Kurtois_profile Skewness_profile Mean_curve\n",
       "1     140.5625     55.68378   -0.2345714      -0.6996484       3.199833  \n",
       "2     102.5078     58.88243    0.4653182      -0.5150879       1.677258  \n",
       "3     103.0156     39.34165    0.3233284       1.0511644       3.121237  \n",
       "⋮     ⋮            ⋮          ⋮               ⋮                ⋮         \n",
       "17896 119.3359     59.93594   0.1593631       -0.74302540       21.430602\n",
       "17897 114.5078     53.90240   0.2011614       -0.02478884        1.946488\n",
       "17898  57.0625     85.79734   1.4063910        0.08951971      188.306020\n",
       "      SD_curve Kortuis_curve Skewness_curve Class\n",
       "1     19.11043  7.975532      74.24222      0    \n",
       "2     14.86015 10.576487     127.39358      0    \n",
       "3     21.74467  7.735822      63.17191      0    \n",
       "⋮     ⋮        ⋮             ⋮              ⋮    \n",
       "17896 58.87200  2.499517       4.595173     0    \n",
       "17897 13.38173 10.007967     134.238910     0    \n",
       "17898 64.71256 -1.597527       1.429475     0    "
      ]
     },
     "metadata": {},
     "output_type": "display_data"
    }
   ],
   "source": [
    "star_data <- read_csv(\"HTRU_2.csv\", col_names = FALSE) %>%\n",
    "    rename(\"Mean_profile\" = X1,\"SD_profile\" = X2,\"Kurtois_profile\" = X3,\"Skewness_profile\" = X4,\"Mean_curve\" = X5,\"SD_curve\" = X6,\"Kortuis_curve\" = X7,\"Skewness_curve\" = X8,\"Class\" = X9) %>%\n",
    "    mutate(Class = as_factor(Class))\n",
    "star_data"
   ]
  },
  {
   "cell_type": "code",
   "execution_count": 3,
   "id": "78ab22c0-addd-4c80-b767-511728329616",
   "metadata": {},
   "outputs": [],
   "source": [
    "star_split <- initial_split(star_data, prop = 0.75, strata = Class)  \n",
    "star_train <- training(star_split)   \n",
    "star_test <- testing(star_split)"
   ]
  },
  {
   "cell_type": "code",
   "execution_count": 4,
   "id": "0c8257a6-7e27-4670-92d6-609758ce12e4",
   "metadata": {},
   "outputs": [
    {
     "data": {
      "text/html": [
       "<table class=\"dataframe\">\n",
       "<caption>A grouped_df: 2 × 2</caption>\n",
       "<thead>\n",
       "\t<tr><th scope=col>Class</th><th scope=col>n</th></tr>\n",
       "\t<tr><th scope=col>&lt;fct&gt;</th><th scope=col>&lt;int&gt;</th></tr>\n",
       "</thead>\n",
       "<tbody>\n",
       "\t<tr><td>0</td><td>12185</td></tr>\n",
       "\t<tr><td>1</td><td> 1238</td></tr>\n",
       "</tbody>\n",
       "</table>\n"
      ],
      "text/latex": [
       "A grouped\\_df: 2 × 2\n",
       "\\begin{tabular}{ll}\n",
       " Class & n\\\\\n",
       " <fct> & <int>\\\\\n",
       "\\hline\n",
       "\t 0 & 12185\\\\\n",
       "\t 1 &  1238\\\\\n",
       "\\end{tabular}\n"
      ],
      "text/markdown": [
       "\n",
       "A grouped_df: 2 × 2\n",
       "\n",
       "| Class &lt;fct&gt; | n &lt;int&gt; |\n",
       "|---|---|\n",
       "| 0 | 12185 |\n",
       "| 1 |  1238 |\n",
       "\n"
      ],
      "text/plain": [
       "  Class n    \n",
       "1 0     12185\n",
       "2 1      1238"
      ]
     },
     "metadata": {},
     "output_type": "display_data"
    },
    {
     "data": {
      "text/html": [
       "<table class=\"dataframe\">\n",
       "<caption>A tibble: 1 × 8</caption>\n",
       "<thead>\n",
       "\t<tr><th scope=col>Mean_profile</th><th scope=col>SD_profile</th><th scope=col>Kurtois_profile</th><th scope=col>Skewness_profile</th><th scope=col>Mean_curve</th><th scope=col>SD_curve</th><th scope=col>Kortuis_curve</th><th scope=col>Skewness_curve</th></tr>\n",
       "\t<tr><th scope=col>&lt;dbl&gt;</th><th scope=col>&lt;dbl&gt;</th><th scope=col>&lt;dbl&gt;</th><th scope=col>&lt;dbl&gt;</th><th scope=col>&lt;dbl&gt;</th><th scope=col>&lt;dbl&gt;</th><th scope=col>&lt;dbl&gt;</th><th scope=col>&lt;dbl&gt;</th></tr>\n",
       "</thead>\n",
       "<tbody>\n",
       "\t<tr><td>110.9438</td><td>46.52604</td><td>0.4842803</td><td>1.813149</td><td>12.70839</td><td>26.36387</td><td>8.278791</td><td>104.1045</td></tr>\n",
       "</tbody>\n",
       "</table>\n"
      ],
      "text/latex": [
       "A tibble: 1 × 8\n",
       "\\begin{tabular}{llllllll}\n",
       " Mean\\_profile & SD\\_profile & Kurtois\\_profile & Skewness\\_profile & Mean\\_curve & SD\\_curve & Kortuis\\_curve & Skewness\\_curve\\\\\n",
       " <dbl> & <dbl> & <dbl> & <dbl> & <dbl> & <dbl> & <dbl> & <dbl>\\\\\n",
       "\\hline\n",
       "\t 110.9438 & 46.52604 & 0.4842803 & 1.813149 & 12.70839 & 26.36387 & 8.278791 & 104.1045\\\\\n",
       "\\end{tabular}\n"
      ],
      "text/markdown": [
       "\n",
       "A tibble: 1 × 8\n",
       "\n",
       "| Mean_profile &lt;dbl&gt; | SD_profile &lt;dbl&gt; | Kurtois_profile &lt;dbl&gt; | Skewness_profile &lt;dbl&gt; | Mean_curve &lt;dbl&gt; | SD_curve &lt;dbl&gt; | Kortuis_curve &lt;dbl&gt; | Skewness_curve &lt;dbl&gt; |\n",
       "|---|---|---|---|---|---|---|---|\n",
       "| 110.9438 | 46.52604 | 0.4842803 | 1.813149 | 12.70839 | 26.36387 | 8.278791 | 104.1045 |\n",
       "\n"
      ],
      "text/plain": [
       "  Mean_profile SD_profile Kurtois_profile Skewness_profile Mean_curve SD_curve\n",
       "1 110.9438     46.52604   0.4842803       1.813149         12.70839   26.36387\n",
       "  Kortuis_curve Skewness_curve\n",
       "1 8.278791      104.1045      "
      ]
     },
     "metadata": {},
     "output_type": "display_data"
    },
    {
     "data": {
      "text/html": [
       "0"
      ],
      "text/latex": [
       "0"
      ],
      "text/markdown": [
       "0"
      ],
      "text/plain": [
       "[1] 0"
      ]
     },
     "metadata": {},
     "output_type": "display_data"
    }
   ],
   "source": [
    "number_of_class <- star_train %>%\n",
    "    group_by(Class) %>%\n",
    "    count()\n",
    "\n",
    "mean_of_predictors <- star_train %>%\n",
    "    select(-Class) %>%\n",
    "    map_dfr(mean)\n",
    "\n",
    "number_of_NA <- sum(is.na(star_train))\n",
    "\n",
    "number_of_class\n",
    "mean_of_predictors\n",
    "number_of_NA"
   ]
  },
  {
   "cell_type": "markdown",
   "id": "a64fc509-c5c6-462f-80a6-c79e9bad146c",
   "metadata": {},
   "source": [
    "As you can see above, the data set has been split into a training set containing 75% and a test set containing 25%. In the training set, there are 12182 class 0 and 1241 class 1. You are also able to see a table containing the mean of each of the predictors, and lastly you can see that there are no \"NA\" in our dataset."
   ]
  },
  {
   "cell_type": "code",
   "execution_count": 8,
   "id": "efef0da7-dce0-4d3c-9444-ec6a9cec1c60",
   "metadata": {},
   "outputs": [
    {
     "data": {
      "image/png": "[encoded data removed]",
      "text/plain": [
       "plot without title"
      ]
     },
     "metadata": {
      "image/png": {
       "height": 420,
       "width": 420
      }
     },
     "output_type": "display_data"
    },
    {
     "data": {
      "image/png": "[encoded data removed]",
      "text/plain": [
       "plot without title"
      ]
     },
     "metadata": {
      "image/png": {
       "height": 420,
       "width": 420
      }
     },
     "output_type": "display_data"
    }
   ],
   "source": [
    "sd_of_predictors <- star_train %>%\n",
    "    select(-Class) %>%\n",
    "    map_dfr(sd)\n",
    "\n",
    "pivot_long_mean <- mean_of_predictors %>%\n",
    "    pivot_longer(cols = Mean_profile:Skewness_curve, names_to = \"Variable\", values_to = \"mean\")\n",
    "pivot_long_sd <- sd_of_predictors %>%\n",
    "    pivot_longer(cols = Mean_profile:Skewness_curve, names_to = \"Variable\", values_to = \"sd\")\n",
    "\n",
    "explanatory_plot_mean <- ggplot(data = pivot_long_mean, aes(x = Variable, y = mean)) + geom_bar(stat='identity') +\n",
    "    ylab(\"Mean\") + xlab(\"Predictor\") +\n",
    "    theme(axis.text.x = element_text(angle = 90, vjust = 0.5, hjust=1, size = 15)) \n",
    "explanatory_plot_sd <- ggplot(data = pivot_long_sd, aes(x = Variable, y = sd)) + geom_bar(stat='identity') +\n",
    "    ylab(\"Standard deviation\") + xlab(\"Predictor\") +\n",
    "    theme(axis.text.x = element_text(angle = 90, vjust = 0.5, hjust=1, size = 15))\n",
    "\n",
    "explanatory_plot_mean\n",
    "explanatory_plot_sd\n"
   ]
  },
  {
   "cell_type": "markdown",
   "id": "50d348c9-77d3-4b77-a6c0-2cf2a177725f",
   "metadata": {},
   "source": [
    "On the plot above the mean and standard deviation of all the predictors are shown in two bar plots. These plots gives a quick overview of the nummerical size (by lookin at the mean) and the spread of the numbers for each predictor. It is clear that there is quite a large difference in the mean and standard deviation of the predictors, which goes to show that it is probably a good idea to centralise and standardise the data."
   ]
  },
  {
   "cell_type": "code",
   "execution_count": null,
   "id": "0a1cb8d1-680c-4579-ab1d-4a36401efc36",
   "metadata": {},
   "outputs": [],
   "source": []
  }
 ],
 "metadata": {
  "kernelspec": {
   "display_name": "R",
   "language": "R",
   "name": "ir"
  },
  "language_info": {
   "codemirror_mode": "r",
   "file_extension": ".r",
   "mimetype": "text/x-r-source",
   "name": "R",
   "pygments_lexer": "r",
   "version": "4.1.3"
  }
 },
 "nbformat": 4,
 "nbformat_minor": 5
}
