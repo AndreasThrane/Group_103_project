{
 "cells": [
  {
   "cell_type": "markdown",
   "id": "f20b7f0a-1ea9-4c33-b090-12eed799ab44",
   "metadata": {},
   "source": [
    "# DSCI 100 - Group proposal\n",
    "### Group 103 - Angelina Chu, Jenny Lee, Jessie Liang & Andreas Thrane\n",
    "\n",
    "#### Title: Distinguish real pulsars using data classification\n",
    " \n",
    "\n",
    " \n",
    "##### Introduction\n",
    "Background information: Pulsars are a kind of Neutron star that arouse wide interests among astronomists. As pulsars rotate, they periodically emit radio beams that are detectable by sensitive apparatus. However, RFI and radio noise are also collected, which causes interference with detection. This project aims to help classify the observations to help find real pulsars from the spurious noise.\n",
    "Question to answer: Are these 10 observations the real pulsars? (we will first randomly choose 10 observations, including both real pulsars and noise, from the original data set as our objects to predict. The reason why we do this is that we don’t want to make numbers by hand since the number we make may be very different from reality)\n",
    "Dataset source: The dataset used is a given dataset by the DSCI 100 teaching team and is called “HTRU_2.csv”     (https://archive.ics.uci.edu/ml/datasets/HTRU2.)   \n",
    "Dataset description:The dataset has 17,898 examples totally, with only 1,639 real Pulsar observations. There are neither column names nor multidata included. Each column respectively stands for:\n",
    "1. Mean of the integrated profile. \n",
    "2. Standard deviation of the integrated profile. \n",
    "3. Excess kurtosis of the integrated profile. \n",
    "4. Skewness of the integrated profile. \n",
    "5. Mean of the DM-SNR curve. \n",
    "6. Standard deviation of the DM-SNR curve. \n",
    "7. Excess kurtosis of the DM-SNR curve. \n",
    "8. Skewness of the DM-SNR curve. \n",
    "9. Class \n",
    "\n",
    "##### Methods\n",
    "Process of data analysis: <br>\n",
    "(1) preprocess: read in -> tidy -> randomly choose 10 observations (including real and spurious ones) as objects to predict and remove them out from the dataset. <br>\n",
    "(2) choose predictors: use forward selection to choose the predictors relevant to predictions. <br>\n",
    "(3) classification: use cross-validation method and create models. <br>\n",
    "(4) visualization of our result. <br>\n",
    "\n",
    "Variables to use: <br> we will use forward selection in R to choose, by coding with loops<br>\n",
    "\n",
    "Visualize the results:<br>\n",
    "The result will be visualized using multiple kinds of plots. The forward selection method will determine the predictors that ensure the highest accuracy of the model. If there are more than two predictors, we will make several plots covering every combination of two predictors (eg: 3 plots for 3 predictors, 6 plots for 4 predictors and so on). The plot will display the standardized data, with pulsars and spurious observations distinguished by different colors. For an easy distinction, the ten randomly chosen observations will be colored black.\n",
    "\n",
    "#### Expected outcomes and significance\n",
    "\n",
    "\n",
    "What do you expect to find? <br>\n",
    "The project is expected to find a highly accurate classification model that can predict the labels for pulsar candidates.\n",
    "\n",
    "What impact could such findings have? <br>\n",
    "The created classification model may help scientists rapidly distinguish real pulsars from numerous spurious observations. This technique may be applied in various research projects, including those that involve the understanding of stars and the mapping of the cosmos.\n",
    "\n",
    "What future questions could this lead to?<br>\n",
    "What are the methods to further improve the accuracy of the classifier?\n",
    " Are there methods for visualizing with more than two predictor variables in R?\n",
    "\n",
    "\n"
   ]
  },
  {
   "cell_type": "markdown",
   "id": "0b128bcd-e280-4db5-aa24-1ab96e67d8e9",
   "metadata": {},
   "source": [
    "# Preliminary exploratory data analysis"
   ]
  },
  {
   "cell_type": "code",
   "execution_count": 2,
   "id": "557b8791-9923-40fd-942d-5ece18ac4ed8",
   "metadata": {},
   "outputs": [
    {
     "name": "stderr",
     "output_type": "stream",
     "text": [
      "── \u001b[1mAttaching packages\u001b[22m ─────────────────────────────────────── tidyverse 1.3.1 ──\n",
      "\n",
      "\u001b[32m✔\u001b[39m \u001b[34mggplot2\u001b[39m 3.3.6     \u001b[32m✔\u001b[39m \u001b[34mpurrr  \u001b[39m 0.3.4\n",
      "\u001b[32m✔\u001b[39m \u001b[34mtibble \u001b[39m 3.1.7     \u001b[32m✔\u001b[39m \u001b[34mdplyr  \u001b[39m 1.0.9\n",
      "\u001b[32m✔\u001b[39m \u001b[34mtidyr  \u001b[39m 1.2.0     \u001b[32m✔\u001b[39m \u001b[34mstringr\u001b[39m 1.4.0\n",
      "\u001b[32m✔\u001b[39m \u001b[34mreadr  \u001b[39m 2.1.2     \u001b[32m✔\u001b[39m \u001b[34mforcats\u001b[39m 0.5.1\n",
      "\n",
      "── \u001b[1mConflicts\u001b[22m ────────────────────────────────────────── tidyverse_conflicts() ──\n",
      "\u001b[31m✖\u001b[39m \u001b[34mdplyr\u001b[39m::\u001b[32mfilter()\u001b[39m masks \u001b[34mstats\u001b[39m::filter()\n",
      "\u001b[31m✖\u001b[39m \u001b[34mdplyr\u001b[39m::\u001b[32mlag()\u001b[39m    masks \u001b[34mstats\u001b[39m::lag()\n",
      "\n",
      "── \u001b[1mAttaching packages\u001b[22m ────────────────────────────────────── tidymodels 1.0.0 ──\n",
      "\n",
      "\u001b[32m✔\u001b[39m \u001b[34mbroom       \u001b[39m 1.0.0     \u001b[32m✔\u001b[39m \u001b[34mrsample     \u001b[39m 1.0.0\n",
      "\u001b[32m✔\u001b[39m \u001b[34mdials       \u001b[39m 1.0.0     \u001b[32m✔\u001b[39m \u001b[34mtune        \u001b[39m 1.0.0\n",
      "\u001b[32m✔\u001b[39m \u001b[34minfer       \u001b[39m 1.0.2     \u001b[32m✔\u001b[39m \u001b[34mworkflows   \u001b[39m 1.0.0\n",
      "\u001b[32m✔\u001b[39m \u001b[34mmodeldata   \u001b[39m 1.0.0     \u001b[32m✔\u001b[39m \u001b[34mworkflowsets\u001b[39m 1.0.0\n",
      "\u001b[32m✔\u001b[39m \u001b[34mparsnip     \u001b[39m 1.0.0     \u001b[32m✔\u001b[39m \u001b[34myardstick   \u001b[39m 1.0.0\n",
      "\u001b[32m✔\u001b[39m \u001b[34mrecipes     \u001b[39m 1.0.1     \n",
      "\n",
      "── \u001b[1mConflicts\u001b[22m ───────────────────────────────────────── tidymodels_conflicts() ──\n",
      "\u001b[31m✖\u001b[39m \u001b[34mscales\u001b[39m::\u001b[32mdiscard()\u001b[39m masks \u001b[34mpurrr\u001b[39m::discard()\n",
      "\u001b[31m✖\u001b[39m \u001b[34mdplyr\u001b[39m::\u001b[32mfilter()\u001b[39m   masks \u001b[34mstats\u001b[39m::filter()\n",
      "\u001b[31m✖\u001b[39m \u001b[34mrecipes\u001b[39m::\u001b[32mfixed()\u001b[39m  masks \u001b[34mstringr\u001b[39m::fixed()\n",
      "\u001b[31m✖\u001b[39m \u001b[34mdplyr\u001b[39m::\u001b[32mlag()\u001b[39m      masks \u001b[34mstats\u001b[39m::lag()\n",
      "\u001b[31m✖\u001b[39m \u001b[34myardstick\u001b[39m::\u001b[32mspec()\u001b[39m masks \u001b[34mreadr\u001b[39m::spec()\n",
      "\u001b[31m✖\u001b[39m \u001b[34mrecipes\u001b[39m::\u001b[32mstep()\u001b[39m   masks \u001b[34mstats\u001b[39m::step()\n",
      "\u001b[34m•\u001b[39m Use \u001b[32mtidymodels_prefer()\u001b[39m to resolve common conflicts.\n",
      "\n"
     ]
    }
   ],
   "source": [
    "library(repr)\n",
    "library(tidyverse)\n",
    "library(tidymodels)\n",
    "options(repr.matrix.max.rows = 10)"
   ]
  },
  {
   "cell_type": "markdown",
   "id": "c1a75a69-1f55-411f-9629-6953e7cd0885",
   "metadata": {},
   "source": [
    "### Loading and adding column names to data"
   ]
  },
  {
   "cell_type": "code",
   "execution_count": 3,
   "id": "ac7b34a7-e4ba-4cc9-abb0-cf3652a4ad3b",
   "metadata": {},
   "outputs": [
    {
     "name": "stderr",
     "output_type": "stream",
     "text": [
      "\u001b[1mRows: \u001b[22m\u001b[34m17898\u001b[39m \u001b[1mColumns: \u001b[22m\u001b[34m9\u001b[39m\n",
      "\u001b[36m──\u001b[39m \u001b[1mColumn specification\u001b[22m \u001b[36m────────────────────────────────────────────────────────\u001b[39m\n",
      "\u001b[1mDelimiter:\u001b[22m \",\"\n",
      "\u001b[32mdbl\u001b[39m (9): X1, X2, X3, X4, X5, X6, X7, X8, X9\n",
      "\n",
      "\u001b[36mℹ\u001b[39m Use `spec()` to retrieve the full column specification for this data.\n",
      "\u001b[36mℹ\u001b[39m Specify the column types or set `show_col_types = FALSE` to quiet this message.\n"
     ]
    },
    {
     "data": {
      "text/html": [
       "<table class=\"dataframe\">\n",
       "<caption>A tibble: 17898 × 9</caption>\n",
       "<thead>\n",
       "\t<tr><th scope=col>Mean_profile</th><th scope=col>SD_profile</th><th scope=col>Kurtois_profile</th><th scope=col>Skewness_profile</th><th scope=col>Mean_curve</th><th scope=col>SD_curve</th><th scope=col>Kortuis_curve</th><th scope=col>Skewness_curve</th><th scope=col>Class</th></tr>\n",
       "\t<tr><th scope=col>&lt;dbl&gt;</th><th scope=col>&lt;dbl&gt;</th><th scope=col>&lt;dbl&gt;</th><th scope=col>&lt;dbl&gt;</th><th scope=col>&lt;dbl&gt;</th><th scope=col>&lt;dbl&gt;</th><th scope=col>&lt;dbl&gt;</th><th scope=col>&lt;dbl&gt;</th><th scope=col>&lt;fct&gt;</th></tr>\n",
       "</thead>\n",
       "<tbody>\n",
       "\t<tr><td>140.56250</td><td>55.68378</td><td>-0.23457141</td><td>-0.6996484</td><td>3.199833</td><td>19.11043</td><td> 7.975532</td><td> 74.24222</td><td>0</td></tr>\n",
       "\t<tr><td>102.50781</td><td>58.88243</td><td> 0.46531815</td><td>-0.5150879</td><td>1.677258</td><td>14.86015</td><td>10.576487</td><td>127.39358</td><td>0</td></tr>\n",
       "\t<tr><td>103.01562</td><td>39.34165</td><td> 0.32332837</td><td> 1.0511644</td><td>3.121237</td><td>21.74467</td><td> 7.735822</td><td> 63.17191</td><td>0</td></tr>\n",
       "\t<tr><td>136.75000</td><td>57.17845</td><td>-0.06841464</td><td>-0.6362384</td><td>3.642977</td><td>20.95928</td><td> 6.896499</td><td> 53.59366</td><td>0</td></tr>\n",
       "\t<tr><td> 88.72656</td><td>40.67223</td><td> 0.60086608</td><td> 1.1234917</td><td>1.178930</td><td>11.46872</td><td>14.269573</td><td>252.56731</td><td>0</td></tr>\n",
       "\t<tr><td>⋮</td><td>⋮</td><td>⋮</td><td>⋮</td><td>⋮</td><td>⋮</td><td>⋮</td><td>⋮</td><td>⋮</td></tr>\n",
       "\t<tr><td>136.4297</td><td>59.84742</td><td>-0.1878456</td><td>-0.73812297</td><td>  1.296823</td><td>12.16606</td><td>15.450260</td><td>285.931022</td><td>0</td></tr>\n",
       "\t<tr><td>122.5547</td><td>49.48561</td><td> 0.1279781</td><td> 0.32306090</td><td> 16.409699</td><td>44.62689</td><td> 2.945244</td><td>  8.297092</td><td>0</td></tr>\n",
       "\t<tr><td>119.3359</td><td>59.93594</td><td> 0.1593631</td><td>-0.74302540</td><td> 21.430602</td><td>58.87200</td><td> 2.499517</td><td>  4.595173</td><td>0</td></tr>\n",
       "\t<tr><td>114.5078</td><td>53.90240</td><td> 0.2011614</td><td>-0.02478884</td><td>  1.946488</td><td>13.38173</td><td>10.007967</td><td>134.238910</td><td>0</td></tr>\n",
       "\t<tr><td> 57.0625</td><td>85.79734</td><td> 1.4063910</td><td> 0.08951971</td><td>188.306020</td><td>64.71256</td><td>-1.597527</td><td>  1.429475</td><td>0</td></tr>\n",
       "</tbody>\n",
       "</table>\n"
      ],
      "text/latex": [
       "A tibble: 17898 × 9\n",
       "\\begin{tabular}{lllllllll}\n",
       " Mean\\_profile & SD\\_profile & Kurtois\\_profile & Skewness\\_profile & Mean\\_curve & SD\\_curve & Kortuis\\_curve & Skewness\\_curve & Class\\\\\n",
       " <dbl> & <dbl> & <dbl> & <dbl> & <dbl> & <dbl> & <dbl> & <dbl> & <fct>\\\\\n",
       "\\hline\n",
       "\t 140.56250 & 55.68378 & -0.23457141 & -0.6996484 & 3.199833 & 19.11043 &  7.975532 &  74.24222 & 0\\\\\n",
       "\t 102.50781 & 58.88243 &  0.46531815 & -0.5150879 & 1.677258 & 14.86015 & 10.576487 & 127.39358 & 0\\\\\n",
       "\t 103.01562 & 39.34165 &  0.32332837 &  1.0511644 & 3.121237 & 21.74467 &  7.735822 &  63.17191 & 0\\\\\n",
       "\t 136.75000 & 57.17845 & -0.06841464 & -0.6362384 & 3.642977 & 20.95928 &  6.896499 &  53.59366 & 0\\\\\n",
       "\t  88.72656 & 40.67223 &  0.60086608 &  1.1234917 & 1.178930 & 11.46872 & 14.269573 & 252.56731 & 0\\\\\n",
       "\t ⋮ & ⋮ & ⋮ & ⋮ & ⋮ & ⋮ & ⋮ & ⋮ & ⋮\\\\\n",
       "\t 136.4297 & 59.84742 & -0.1878456 & -0.73812297 &   1.296823 & 12.16606 & 15.450260 & 285.931022 & 0\\\\\n",
       "\t 122.5547 & 49.48561 &  0.1279781 &  0.32306090 &  16.409699 & 44.62689 &  2.945244 &   8.297092 & 0\\\\\n",
       "\t 119.3359 & 59.93594 &  0.1593631 & -0.74302540 &  21.430602 & 58.87200 &  2.499517 &   4.595173 & 0\\\\\n",
       "\t 114.5078 & 53.90240 &  0.2011614 & -0.02478884 &   1.946488 & 13.38173 & 10.007967 & 134.238910 & 0\\\\\n",
       "\t  57.0625 & 85.79734 &  1.4063910 &  0.08951971 & 188.306020 & 64.71256 & -1.597527 &   1.429475 & 0\\\\\n",
       "\\end{tabular}\n"
      ],
      "text/markdown": [
       "\n",
       "A tibble: 17898 × 9\n",
       "\n",
       "| Mean_profile &lt;dbl&gt; | SD_profile &lt;dbl&gt; | Kurtois_profile &lt;dbl&gt; | Skewness_profile &lt;dbl&gt; | Mean_curve &lt;dbl&gt; | SD_curve &lt;dbl&gt; | Kortuis_curve &lt;dbl&gt; | Skewness_curve &lt;dbl&gt; | Class &lt;fct&gt; |\n",
       "|---|---|---|---|---|---|---|---|---|\n",
       "| 140.56250 | 55.68378 | -0.23457141 | -0.6996484 | 3.199833 | 19.11043 |  7.975532 |  74.24222 | 0 |\n",
       "| 102.50781 | 58.88243 |  0.46531815 | -0.5150879 | 1.677258 | 14.86015 | 10.576487 | 127.39358 | 0 |\n",
       "| 103.01562 | 39.34165 |  0.32332837 |  1.0511644 | 3.121237 | 21.74467 |  7.735822 |  63.17191 | 0 |\n",
       "| 136.75000 | 57.17845 | -0.06841464 | -0.6362384 | 3.642977 | 20.95928 |  6.896499 |  53.59366 | 0 |\n",
       "|  88.72656 | 40.67223 |  0.60086608 |  1.1234917 | 1.178930 | 11.46872 | 14.269573 | 252.56731 | 0 |\n",
       "| ⋮ | ⋮ | ⋮ | ⋮ | ⋮ | ⋮ | ⋮ | ⋮ | ⋮ |\n",
       "| 136.4297 | 59.84742 | -0.1878456 | -0.73812297 |   1.296823 | 12.16606 | 15.450260 | 285.931022 | 0 |\n",
       "| 122.5547 | 49.48561 |  0.1279781 |  0.32306090 |  16.409699 | 44.62689 |  2.945244 |   8.297092 | 0 |\n",
       "| 119.3359 | 59.93594 |  0.1593631 | -0.74302540 |  21.430602 | 58.87200 |  2.499517 |   4.595173 | 0 |\n",
       "| 114.5078 | 53.90240 |  0.2011614 | -0.02478884 |   1.946488 | 13.38173 | 10.007967 | 134.238910 | 0 |\n",
       "|  57.0625 | 85.79734 |  1.4063910 |  0.08951971 | 188.306020 | 64.71256 | -1.597527 |   1.429475 | 0 |\n",
       "\n"
      ],
      "text/plain": [
       "      Mean_profile SD_profile Kurtois_profile Skewness_profile Mean_curve\n",
       "1     140.56250    55.68378   -0.23457141     -0.6996484       3.199833  \n",
       "2     102.50781    58.88243    0.46531815     -0.5150879       1.677258  \n",
       "3     103.01562    39.34165    0.32332837      1.0511644       3.121237  \n",
       "4     136.75000    57.17845   -0.06841464     -0.6362384       3.642977  \n",
       "5      88.72656    40.67223    0.60086608      1.1234917       1.178930  \n",
       "⋮     ⋮            ⋮          ⋮               ⋮                ⋮         \n",
       "17894 136.4297     59.84742   -0.1878456      -0.73812297        1.296823\n",
       "17895 122.5547     49.48561    0.1279781       0.32306090       16.409699\n",
       "17896 119.3359     59.93594    0.1593631      -0.74302540       21.430602\n",
       "17897 114.5078     53.90240    0.2011614      -0.02478884        1.946488\n",
       "17898  57.0625     85.79734    1.4063910       0.08951971      188.306020\n",
       "      SD_curve Kortuis_curve Skewness_curve Class\n",
       "1     19.11043  7.975532      74.24222      0    \n",
       "2     14.86015 10.576487     127.39358      0    \n",
       "3     21.74467  7.735822      63.17191      0    \n",
       "4     20.95928  6.896499      53.59366      0    \n",
       "5     11.46872 14.269573     252.56731      0    \n",
       "⋮     ⋮        ⋮             ⋮              ⋮    \n",
       "17894 12.16606 15.450260     285.931022     0    \n",
       "17895 44.62689  2.945244       8.297092     0    \n",
       "17896 58.87200  2.499517       4.595173     0    \n",
       "17897 13.38173 10.007967     134.238910     0    \n",
       "17898 64.71256 -1.597527       1.429475     0    "
      ]
     },
     "metadata": {},
     "output_type": "display_data"
    }
   ],
   "source": [
    "star_data <- read_csv(\"HTRU_2.csv\", col_names = FALSE) %>%\n",
    "    rename(\"Mean_profile\" = X1,\"SD_profile\" = X2,\"Kurtois_profile\" = X3,\"Skewness_profile\" = X4,\"Mean_curve\" = X5,\"SD_curve\" = X6,\"Kortuis_curve\" = X7,\"Skewness_curve\" = X8,\"Class\" = X9) %>%\n",
    "    mutate(Class = as_factor(Class))\n",
    "star_data"
   ]
  },
  {
   "cell_type": "markdown",
   "id": "0915d572-580d-4421-bc2d-fdf6c8f3dcff",
   "metadata": {},
   "source": [
    "### Splitting and summarizing the data"
   ]
  },
  {
   "cell_type": "code",
   "execution_count": 4,
   "id": "78ab22c0-addd-4c80-b767-511728329616",
   "metadata": {},
   "outputs": [],
   "source": [
    "set.seed(1000)\n",
    "star_split <- initial_split(star_data, prop = 0.75, strata = Class)  \n",
    "star_train <- training(star_split)   \n",
    "star_test <- testing(star_split)"
   ]
  },
  {
   "cell_type": "code",
   "execution_count": 5,
   "id": "0c8257a6-7e27-4670-92d6-609758ce12e4",
   "metadata": {},
   "outputs": [
    {
     "data": {
      "text/html": [
       "<table class=\"dataframe\">\n",
       "<caption>A grouped_df: 2 × 2</caption>\n",
       "<thead>\n",
       "\t<tr><th scope=col>Class</th><th scope=col>n</th></tr>\n",
       "\t<tr><th scope=col>&lt;fct&gt;</th><th scope=col>&lt;int&gt;</th></tr>\n",
       "</thead>\n",
       "<tbody>\n",
       "\t<tr><td>0</td><td>12199</td></tr>\n",
       "\t<tr><td>1</td><td> 1224</td></tr>\n",
       "</tbody>\n",
       "</table>\n"
      ],
      "text/latex": [
       "A grouped\\_df: 2 × 2\n",
       "\\begin{tabular}{ll}\n",
       " Class & n\\\\\n",
       " <fct> & <int>\\\\\n",
       "\\hline\n",
       "\t 0 & 12199\\\\\n",
       "\t 1 &  1224\\\\\n",
       "\\end{tabular}\n"
      ],
      "text/markdown": [
       "\n",
       "A grouped_df: 2 × 2\n",
       "\n",
       "| Class &lt;fct&gt; | n &lt;int&gt; |\n",
       "|---|---|\n",
       "| 0 | 12199 |\n",
       "| 1 |  1224 |\n",
       "\n"
      ],
      "text/plain": [
       "  Class n    \n",
       "1 0     12199\n",
       "2 1      1224"
      ]
     },
     "metadata": {},
     "output_type": "display_data"
    },
    {
     "data": {
      "text/html": [
       "<table class=\"dataframe\">\n",
       "<caption>A tibble: 1 × 8</caption>\n",
       "<thead>\n",
       "\t<tr><th scope=col>Mean_profile</th><th scope=col>SD_profile</th><th scope=col>Kurtois_profile</th><th scope=col>Skewness_profile</th><th scope=col>Mean_curve</th><th scope=col>SD_curve</th><th scope=col>Kortuis_curve</th><th scope=col>Skewness_curve</th></tr>\n",
       "\t<tr><th scope=col>&lt;dbl&gt;</th><th scope=col>&lt;dbl&gt;</th><th scope=col>&lt;dbl&gt;</th><th scope=col>&lt;dbl&gt;</th><th scope=col>&lt;dbl&gt;</th><th scope=col>&lt;dbl&gt;</th><th scope=col>&lt;dbl&gt;</th><th scope=col>&lt;dbl&gt;</th></tr>\n",
       "</thead>\n",
       "<tbody>\n",
       "\t<tr><td>111.183</td><td>46.56841</td><td>0.4752414</td><td>1.760949</td><td>12.70116</td><td>26.39142</td><td>8.289258</td><td>104.7097</td></tr>\n",
       "</tbody>\n",
       "</table>\n"
      ],
      "text/latex": [
       "A tibble: 1 × 8\n",
       "\\begin{tabular}{llllllll}\n",
       " Mean\\_profile & SD\\_profile & Kurtois\\_profile & Skewness\\_profile & Mean\\_curve & SD\\_curve & Kortuis\\_curve & Skewness\\_curve\\\\\n",
       " <dbl> & <dbl> & <dbl> & <dbl> & <dbl> & <dbl> & <dbl> & <dbl>\\\\\n",
       "\\hline\n",
       "\t 111.183 & 46.56841 & 0.4752414 & 1.760949 & 12.70116 & 26.39142 & 8.289258 & 104.7097\\\\\n",
       "\\end{tabular}\n"
      ],
      "text/markdown": [
       "\n",
       "A tibble: 1 × 8\n",
       "\n",
       "| Mean_profile &lt;dbl&gt; | SD_profile &lt;dbl&gt; | Kurtois_profile &lt;dbl&gt; | Skewness_profile &lt;dbl&gt; | Mean_curve &lt;dbl&gt; | SD_curve &lt;dbl&gt; | Kortuis_curve &lt;dbl&gt; | Skewness_curve &lt;dbl&gt; |\n",
       "|---|---|---|---|---|---|---|---|\n",
       "| 111.183 | 46.56841 | 0.4752414 | 1.760949 | 12.70116 | 26.39142 | 8.289258 | 104.7097 |\n",
       "\n"
      ],
      "text/plain": [
       "  Mean_profile SD_profile Kurtois_profile Skewness_profile Mean_curve SD_curve\n",
       "1 111.183      46.56841   0.4752414       1.760949         12.70116   26.39142\n",
       "  Kortuis_curve Skewness_curve\n",
       "1 8.289258      104.7097      "
      ]
     },
     "metadata": {},
     "output_type": "display_data"
    },
    {
     "data": {
      "text/html": [
       "0"
      ],
      "text/latex": [
       "0"
      ],
      "text/markdown": [
       "0"
      ],
      "text/plain": [
       "[1] 0"
      ]
     },
     "metadata": {},
     "output_type": "display_data"
    }
   ],
   "source": [
    "number_of_class <- star_train %>%\n",
    "    group_by(Class) %>%\n",
    "    count()\n",
    "\n",
    "mean_of_predictors <- star_train %>%\n",
    "    select(-Class) %>%\n",
    "    map_dfr(mean)\n",
    "\n",
    "number_of_NA <- sum(is.na(star_train))\n",
    "\n",
    "number_of_class\n",
    "mean_of_predictors\n",
    "number_of_NA"
   ]
  },
  {
   "cell_type": "markdown",
   "id": "a64fc509-c5c6-462f-80a6-c79e9bad146c",
   "metadata": {},
   "source": [
    "### Nummerical summary\n",
    "As you can see above, the data set has been split into a training set containing 75% and a test set containing 25%. In the training set, there are 12182 class 0 and 1241 class 1. You are also able to see a table containing the mean of each of the predictors, and lastly you can see that there are no \"NA\" in our dataset."
   ]
  },
  {
   "cell_type": "code",
   "execution_count": 6,
   "id": "efef0da7-dce0-4d3c-9444-ec6a9cec1c60",
   "metadata": {},
   "outputs": [
    {
     "data": {
      "image/png": "[encoded data removed]",
      "text/plain": [
       "plot without title"
      ]
     },
     "metadata": {
      "image/png": {
       "height": 420,
       "width": 420
      }
     },
     "output_type": "display_data"
    },
    {
     "data": {
      "image/png": "[encoded data removed]",
      "text/plain": [
       "plot without title"
      ]
     },
     "metadata": {
      "image/png": {
       "height": 420,
       "width": 420
      }
     },
     "output_type": "display_data"
    }
   ],
   "source": [
    "sd_of_predictors <- star_train %>%\n",
    "    select(-Class) %>%\n",
    "    map_dfr(sd)\n",
    "\n",
    "pivot_long_mean <- mean_of_predictors %>%\n",
    "    pivot_longer(cols = Mean_profile:Skewness_curve, names_to = \"Variable\", values_to = \"mean\")\n",
    "pivot_long_sd <- sd_of_predictors %>%\n",
    "    pivot_longer(cols = Mean_profile:Skewness_curve, names_to = \"Variable\", values_to = \"sd\")\n",
    "\n",
    "explanatory_plot_mean <- ggplot(data = pivot_long_mean, aes(x = Variable, y = mean)) + geom_bar(stat='identity') +\n",
    "    ylab(\"Mean\") + xlab(\"Predictor\") +\n",
    "    ggtitle(\"Mean of predictors\") +\n",
    "    theme(axis.text.x = element_text(angle = 45, vjust = 1, hjust=1)) + \n",
    "    theme(text = element_text(size = 20))\n",
    "\n",
    "explanatory_plot_sd <- ggplot(data = pivot_long_sd, aes(x = Variable, y = sd)) + geom_bar(stat='identity') +\n",
    "    ylab(\"Standard deviation\") + xlab(\"Predictor\") +\n",
    "    ggtitle(\"Standard deviation of predictors\") +\n",
    "    theme(axis.text.x = element_text(angle = 45, vjust = 1, hjust=1)) + \n",
    "    theme(text = element_text(size = 20))\n",
    "\n",
    "explanatory_plot_mean\n",
    "explanatory_plot_sd\n"
   ]
  },
  {
   "cell_type": "markdown",
   "id": "bd2c9400-e56f-4095-bdcb-9277a35ffd95",
   "metadata": {
    "tags": []
   },
   "source": [
    "### Visulization summary"
   ]
  },
  {
   "cell_type": "markdown",
   "id": "50d348c9-77d3-4b77-a6c0-2cf2a177725f",
   "metadata": {},
   "source": [
    "On the plot above the mean and standard deviation of all the predictors are shown in two bar plots. These plots gives a quick overview of the nummerical size (by lookin at the mean) and the spread of the numbers for each predictor. It is clear that there is quite a large difference in the mean and standard deviation of the predictors, which goes to show that it is probably a good idea to centralise and standardise the data."
   ]
  },
  {
   "cell_type": "markdown",
   "id": "daa36250-e146-40f7-b124-c16d599c83cf",
   "metadata": {},
   "source": [
    "### Data analysis"
   ]
  },
  {
   "cell_type": "code",
   "execution_count": null,
   "id": "033f38d5-a9cc-4c58-a2bf-f680cd616b3b",
   "metadata": {},
   "outputs": [],
   "source": [
    "set.seed(1000)\n",
    "names <- colnames(star_train |> select(-Class))\n",
    "\n",
    "# create an empty tibble to store the results\n",
    "accuracies <- tibble(size = integer(), \n",
    "                     model_string = character(), \n",
    "                     accuracy = numeric())\n",
    "\n",
    "# create a model specification\n",
    "knn_spec <- nearest_neighbor(weight_func = \"rectangular\", \n",
    "                             neighbors = tune()) |>\n",
    "     set_engine(\"kknn\") |>\n",
    "     set_mode(\"classification\")\n",
    "\n",
    "# create a 5-fold cross-validation object\n",
    "star_vfold <- vfold_cv(star_train, v = 5, strata = Class)\n",
    "\n",
    "# store the total number of predictors\n",
    "n_total <- length(names)\n",
    "\n",
    "# stores selected predictors\n",
    "selected <- c()\n",
    "\n",
    "# for every size from 1 to the total number of predictors\n",
    "for (i in 1:n_total) {\n",
    "    # for every predictor still not added yet\n",
    "    accs <- list()\n",
    "    models <- list()\n",
    "    for (j in 1:length(names)) {\n",
    "        # create a model string for this combination of predictors\n",
    "        preds_new <- c(selected, names[[j]])\n",
    "        model_string <- paste(\"Class\", \"~\", paste(preds_new, collapse=\"+\"))\n",
    "\n",
    "        # create a recipe from the model string\n",
    "        star_recipe <- recipe(as.formula(model_string), \n",
    "                                data = star_train) |>\n",
    "                          step_scale(all_predictors()) |>\n",
    "                          step_center(all_predictors())\n",
    "\n",
    "        # tune the KNN classifier with these predictors, \n",
    "        # and collect the accuracy for the best K\n",
    "        acc <- workflow() |>\n",
    "          add_recipe(star_recipe) |>\n",
    "          add_model(knn_spec) |>\n",
    "          tune_grid(resamples = star_vfold, grid = 10) |>\n",
    "          collect_metrics() |>\n",
    "          filter(.metric == \"accuracy\") |>\n",
    "          summarize(mx = max(mean))\n",
    "        acc <- acc$mx |> unlist()\n",
    "\n",
    "        # add this result to the dataframe\n",
    "        accs[[j]] <- acc\n",
    "        models[[j]] <- model_string\n",
    "    }\n",
    "    jstar <- which.max(unlist(accs))\n",
    "    accuracies <- accuracies |> \n",
    "      add_row(size = i, \n",
    "              model_string = models[[jstar]], \n",
    "              accuracy = accs[[jstar]])\n",
    "    selected <- c(selected, names[[jstar]])\n",
    "    names <- names[-jstar]\n",
    "}\n",
    "accuracies"
   ]
  },
  {
   "cell_type": "markdown",
   "id": "9d28ec35-d85d-4613-a397-397c3cc2c2da",
   "metadata": {},
   "source": [
    "From the forward selection above, you can see that the best model includes 5 predictors. We will now create a model using these predictors, train it on the training set using cross validation, and then test the accuracy on the test set. We will start by tuning the model to find the best number of neighbours between 1 and 20."
   ]
  },
  {
   "cell_type": "code",
   "execution_count": 1,
   "id": "d2b1dcab-ab09-4047-9df1-091aca464c3a",
   "metadata": {},
   "outputs": [
    {
     "ename": "ERROR",
     "evalue": "Error in recipe(Class ~ Kurtios_profile + Mean_profile + Mean_curve + : could not find function \"%>%\"\n",
     "output_type": "error",
     "traceback": [
      "Error in recipe(Class ~ Kurtios_profile + Mean_profile + Mean_curve + : could not find function \"%>%\"\nTraceback:\n"
     ]
    }
   ],
   "source": [
    "set.seed(1000)\n",
    "star_recipe_final <- recipe(Class ~ Kurtios_profile + Mean_profile + Mean_curve + SD_curve + SD_profile, data =star_train) %>%  \n",
    "    step_scale(all_predictors()) %>%\n",
    "    step_center(all_predictors())\n",
    "\n",
    "knn_tune <-nearest_neighbor(weight_func =\"rectangular\",neighbors =tune()) %>%\n",
    "    set_engine(\"kknn\") %>%\n",
    "    set_mode(\"classification\")\n",
    "\n",
    "knn_results <- workflow() %>%\n",
    "    add_recipe(star_recipe_final) %>%\n",
    "    add_model(knn_tune) %>%\n",
    "    tune_grid(resamples = star_vfold, grid = 20) %>%\n",
    "    collect_metrics()\n",
    "\n",
    "knn_results\n",
    "\n",
    "\n"
   ]
  },
  {
   "cell_type": "code",
   "execution_count": null,
   "id": "33a4a18c-f00a-446c-91b8-b84b4390ceaf",
   "metadata": {},
   "outputs": [],
   "source": []
  }
 ],
 "metadata": {
  "kernelspec": {
   "display_name": "R",
   "language": "R",
   "name": "ir"
  },
  "language_info": {
   "codemirror_mode": "r",
   "file_extension": ".r",
   "mimetype": "text/x-r-source",
   "name": "R",
   "pygments_lexer": "r",
   "version": "4.1.3"
  }
 },
 "nbformat": 4,
 "nbformat_minor": 5
}
